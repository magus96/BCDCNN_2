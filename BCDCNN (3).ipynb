{
  "nbformat": 4,
  "nbformat_minor": 0,
  "metadata": {
    "colab": {
      "name": "BCDCNN.ipynb",
      "version": "0.3.2",
      "provenance": [],
      "collapsed_sections": []
    },
    "kernelspec": {
      "display_name": "Python 3",
      "language": "python",
      "name": "python3"
    },
    "accelerator": "GPU"
  },
  "cells": [
    {
      "metadata": {
        "colab_type": "code",
        "id": "SH-gbSDqjCfN",
        "outputId": "d8c459a4-dac5-45ae-d331-19dc667fbc9a",
        "colab": {
          "base_uri": "https://localhost:8080/",
          "height": 35
        }
      },
      "cell_type": "code",
      "source": [
        "import cv2\n",
        "import pickle\n",
        "import os.path\n",
        "import matplotlib.pyplot as plt\n",
        "from imutils import paths\n",
        "from sklearn.preprocessing import LabelBinarizer\n",
        "import numpy as np\n",
        "from sklearn.model_selection import train_test_split\n",
        "from keras.models import Sequential\n",
        "from keras.layers import Conv2D,Flatten,MaxPooling2D,Dense,Dropout\n",
        "from keras import backend as k\n",
        "from keras.layers.normalization import BatchNormalization\n",
        "from keras.models import model_from_json\n",
        "from sklearn import metrics\n",
        "from sklearn.metrics import roc_curve,auc\n",
        "from sklearn.metrics import classification_report"
      ],
      "execution_count": 1,
      "outputs": [
        {
          "output_type": "stream",
          "text": [
            "Using TensorFlow backend.\n"
          ],
          "name": "stderr"
        }
      ]
    },
    {
      "metadata": {
        "colab_type": "code",
        "id": "N6JHQ7Oi3wl6",
        "outputId": "e90993a7-af2f-4efc-ed13-2e8d3af04d37",
        "colab": {
          "base_uri": "https://localhost:8080/",
          "height": 141
        }
      },
      "cell_type": "code",
      "source": [
        "!git clone https://github.com/magus96/BCDCNN_2.git\n",
        "  "
      ],
      "execution_count": 2,
      "outputs": [
        {
          "output_type": "stream",
          "text": [
            "Cloning into 'BCDCNN_2'...\n",
            "remote: Enumerating objects: 1519, done.\u001b[K\n",
            "remote: Counting objects: 100% (1519/1519), done.\u001b[K\n",
            "remote: Compressing objects: 100% (1519/1519), done.\u001b[K\n",
            "remote: Total 1519 (delta 3), reused 1509 (delta 0), pack-reused 0\u001b[K\n",
            "Receiving objects: 100% (1519/1519), 173.52 MiB | 39.55 MiB/s, done.\n",
            "Resolving deltas: 100% (3/3), done.\n"
          ],
          "name": "stdout"
        }
      ]
    },
    {
      "metadata": {
        "colab_type": "code",
        "id": "gwXMggsJjWS3",
        "outputId": "88ef5267-7cb5-4e19-cc6d-ad548ed9fd8f",
        "colab": {
          "base_uri": "https://localhost:8080/",
          "height": 35
        }
      },
      "cell_type": "code",
      "source": [
        "cd '/content/BCDCNN_2/'\n"
      ],
      "execution_count": 3,
      "outputs": [
        {
          "output_type": "stream",
          "text": [
            "/content/BCDCNN_2\n"
          ],
          "name": "stdout"
        }
      ]
    },
    {
      "metadata": {
        "colab_type": "code",
        "id": "JLWWzE2wjpJa",
        "colab": {}
      },
      "cell_type": "code",
      "source": [
        "from helpers import resize_to_fit\n",
        "path='/content/BCDCNN_2/Data'\n",
        "data=[]\n",
        "labels=[]\n",
        "for image_file in paths.list_images(path):\n",
        "    image=cv2.imread(image_file)\n",
        "    image=resize_to_fit(image,128,128)\n",
        "    label=image_file.split(os.path.sep)[-2]\n",
        "    data.append(image)\n",
        "    labels.append(label)\n",
        "    \n",
        "    "
      ],
      "execution_count": 0,
      "outputs": []
    },
    {
      "metadata": {
        "colab_type": "text",
        "id": "Vw1NCI1bLPHq"
      },
      "cell_type": "markdown",
      "source": [
        "We initialize data and label as empty vectors. We iterate through the folder(s) containing our test images. The names of the subfolders are the labels themselves(0-Benign 1-Malignant). We use openCV for our image manipulation. From exhaustive testing, we found that 128 * 128 pixels was the best image size for our purpose. We append the images to the data vector with corresponding labels stored in the labels vector."
      ]
    },
    {
      "metadata": {
        "colab_type": "code",
        "id": "AAHuxadJjrf3",
        "outputId": "b6769e8b-cc8d-4784-eb2f-b69b9af4b4a1",
        "colab": {
          "base_uri": "https://localhost:8080/",
          "height": 53
        }
      },
      "cell_type": "code",
      "source": [
        "data = np.array(data, dtype=\"float\") / 255.0\n",
        "labels = np.array(np.expand_dims(labels, axis=1))\n",
        "\n",
        "print(data.shape)\n",
        "print(labels.shape)"
      ],
      "execution_count": 5,
      "outputs": [
        {
          "output_type": "stream",
          "text": [
            "(1182, 128, 128, 3)\n",
            "(1182, 1)\n"
          ],
          "name": "stdout"
        }
      ]
    },
    {
      "metadata": {
        "colab_type": "text",
        "id": "gAOWAPl3LPHw"
      },
      "cell_type": "markdown",
      "source": [
        "We convert our vectors into numpy arrays as they are easy to manipulate and are a lot faster to operate on. Since we have 1482 images of 128 * 128 pixels and 3 channels(RGB channel), we get an array of shape(1482,128,128,3). We also normalize the pixel by dividing them by 255. We convert the labels vector to a similar numpy array with 1 column and 1482 labels."
      ]
    },
    {
      "metadata": {
        "colab_type": "code",
        "id": "eG08FQYBlJve",
        "outputId": "c880b868-3e40-4e99-b824-d8e337f51e65",
        "colab": {
          "base_uri": "https://localhost:8080/",
          "height": 35
        }
      },
      "cell_type": "code",
      "source": [
        "lb=LabelBinarizer().fit(labels)\n",
        "labels=lb.transform(labels)\n",
        "print(labels.shape)"
      ],
      "execution_count": 6,
      "outputs": [
        {
          "output_type": "stream",
          "text": [
            "(1182, 1)\n"
          ],
          "name": "stdout"
        }
      ]
    },
    {
      "metadata": {
        "colab_type": "text",
        "id": "eCx1WKN4LPH2"
      },
      "cell_type": "markdown",
      "source": [
        "We one hot encode the labels although it isnt entirely necessary to do this for binary classification."
      ]
    },
    {
      "metadata": {
        "colab_type": "code",
        "id": "4T_3A0qSlopy",
        "colab": {}
      },
      "cell_type": "code",
      "source": [
        "X_train,X_test,y_train,y_test=train_test_split(data,labels,test_size=0.2,random_state=109)"
      ],
      "execution_count": 0,
      "outputs": []
    },
    {
      "metadata": {
        "colab_type": "text",
        "id": "D6KFReS3LPH7"
      },
      "cell_type": "markdown",
      "source": [
        "We split the dataset into train and testing data. The test size is 20% of the total dataset."
      ]
    },
    {
      "metadata": {
        "colab_type": "code",
        "id": "xdKzIwUMlsaK",
        "outputId": "43fbfae7-229f-454c-ee05-9e612e1c0a32",
        "colab": {
          "base_uri": "https://localhost:8080/",
          "height": 53
        }
      },
      "cell_type": "code",
      "source": [
        "print(X_train.shape)\n",
        "print(X_test.shape)"
      ],
      "execution_count": 8,
      "outputs": [
        {
          "output_type": "stream",
          "text": [
            "(945, 128, 128, 3)\n",
            "(237, 128, 128, 3)\n"
          ],
          "name": "stdout"
        }
      ]
    },
    {
      "metadata": {
        "colab_type": "code",
        "id": "Hdqf8Y3SlvBQ",
        "outputId": "cfa56fe3-de4e-4fe3-da1f-2d969aed217c",
        "colab": {
          "base_uri": "https://localhost:8080/",
          "height": 621
        }
      },
      "cell_type": "code",
      "source": [
        "model = Sequential()\n",
        "model.add(Conv2D(64, (3, 3), activation='relu', padding='same', input_shape=(128,128,3)))\n",
        "model.add(Conv2D(64, (3, 3), activation='relu', padding='same'))\n",
        "model.add(MaxPooling2D((2, 2), strides=(2, 2)))\n",
        "\n",
        "    # Block 2\n",
        "model.add(Conv2D(128, (3, 3), activation='relu', padding='same'))\n",
        "\n",
        "model.add(MaxPooling2D((2, 2), strides=(2, 2)))\n",
        "\n",
        "    # Block 3\n",
        "model.add(Conv2D(256, (3, 3), activation='relu', padding='same'))\n",
        "\n",
        "model.add(MaxPooling2D((2, 2), strides=(2, 2)))\n",
        "\n",
        "    # Block 4\n",
        "\n",
        "model.add(MaxPooling2D((2, 2), strides=(2, 2)))\n",
        "\n",
        "    # Block 5\n",
        "model.add(Conv2D(512, (3, 3), activation='relu', padding='same'))\n",
        "\n",
        "model.add(MaxPooling2D((2, 2), strides=(2, 2)))\n",
        "  \n",
        "model.add(Flatten())\n",
        "model.add(Dense(256, activation='tanh'))\n",
        "model.add(Dense(2, activation='softmax'))\n",
        "model.compile(loss='sparse_categorical_crossentropy',\n",
        "              optimizer='Adam',\n",
        "              metrics=['accuracy'])\n",
        "print(model.summary())\n",
        "  "
      ],
      "execution_count": 9,
      "outputs": [
        {
          "output_type": "stream",
          "text": [
            "_________________________________________________________________\n",
            "Layer (type)                 Output Shape              Param #   \n",
            "=================================================================\n",
            "conv2d_1 (Conv2D)            (None, 128, 128, 64)      1792      \n",
            "_________________________________________________________________\n",
            "conv2d_2 (Conv2D)            (None, 128, 128, 64)      36928     \n",
            "_________________________________________________________________\n",
            "max_pooling2d_1 (MaxPooling2 (None, 64, 64, 64)        0         \n",
            "_________________________________________________________________\n",
            "conv2d_3 (Conv2D)            (None, 64, 64, 128)       73856     \n",
            "_________________________________________________________________\n",
            "max_pooling2d_2 (MaxPooling2 (None, 32, 32, 128)       0         \n",
            "_________________________________________________________________\n",
            "conv2d_4 (Conv2D)            (None, 32, 32, 256)       295168    \n",
            "_________________________________________________________________\n",
            "max_pooling2d_3 (MaxPooling2 (None, 16, 16, 256)       0         \n",
            "_________________________________________________________________\n",
            "max_pooling2d_4 (MaxPooling2 (None, 8, 8, 256)         0         \n",
            "_________________________________________________________________\n",
            "conv2d_5 (Conv2D)            (None, 8, 8, 512)         1180160   \n",
            "_________________________________________________________________\n",
            "max_pooling2d_5 (MaxPooling2 (None, 4, 4, 512)         0         \n",
            "_________________________________________________________________\n",
            "flatten_1 (Flatten)          (None, 8192)              0         \n",
            "_________________________________________________________________\n",
            "dense_1 (Dense)              (None, 256)               2097408   \n",
            "_________________________________________________________________\n",
            "dense_2 (Dense)              (None, 2)                 514       \n",
            "=================================================================\n",
            "Total params: 3,685,826\n",
            "Trainable params: 3,685,826\n",
            "Non-trainable params: 0\n",
            "_________________________________________________________________\n",
            "None\n"
          ],
          "name": "stdout"
        }
      ]
    },
    {
      "metadata": {
        "colab_type": "text",
        "id": "8F6lrSzkLPIG"
      },
      "cell_type": "markdown",
      "source": [
        "We initialize our Convolutional Neural Network. An input size of (128,128,3) is required according to the image size. Precision being the need of the hour, we use 5 convolutional layers for maximum feature extraction. The final layer is a fully connected layer with 2 outputs and a sigmoid activation function. This outputs the probabilities for each class for a given image."
      ]
    },
    {
      "metadata": {
        "colab_type": "code",
        "id": "EaPEnO5ys_G6",
        "colab": {}
      },
      "cell_type": "code",
      "source": [
        "batch_size=64\n",
        "epochss=20\n"
      ],
      "execution_count": 0,
      "outputs": []
    },
    {
      "metadata": {
        "colab_type": "text",
        "id": "Do50DsUyLPIK"
      },
      "cell_type": "markdown",
      "source": [
        "We choose a batch size of 64 due to memory considerations. We train our network for 20 epochs."
      ]
    },
    {
      "metadata": {
        "colab_type": "code",
        "id": "OQkjshZztJlq",
        "outputId": "aae3eee5-ee14-47b4-f7fe-780f4d378eca",
        "colab": {
          "base_uri": "https://localhost:8080/",
          "height": 764
        }
      },
      "cell_type": "code",
      "source": [
        "model.fit(X_train,y_train,validation_data=(X_test,y_test),batch_size=batch_size,epochs=epochss)\n"
      ],
      "execution_count": 11,
      "outputs": [
        {
          "output_type": "stream",
          "text": [
            "Train on 945 samples, validate on 237 samples\n",
            "Epoch 1/20\n",
            "945/945 [==============================] - 14s 15ms/step - loss: 0.7673 - acc: 0.5397 - val_loss: 0.6858 - val_acc: 0.4768\n",
            "Epoch 2/20\n",
            "945/945 [==============================] - 4s 5ms/step - loss: 0.6290 - acc: 0.6794 - val_loss: 0.5492 - val_acc: 0.8270\n",
            "Epoch 3/20\n",
            "945/945 [==============================] - 4s 5ms/step - loss: 0.4694 - acc: 0.8116 - val_loss: 0.3652 - val_acc: 0.8608\n",
            "Epoch 4/20\n",
            "945/945 [==============================] - 4s 5ms/step - loss: 0.3565 - acc: 0.8677 - val_loss: 0.3051 - val_acc: 0.8903\n",
            "Epoch 5/20\n",
            "945/945 [==============================] - 4s 5ms/step - loss: 0.2721 - acc: 0.8995 - val_loss: 0.3026 - val_acc: 0.8776\n",
            "Epoch 6/20\n",
            "945/945 [==============================] - 4s 5ms/step - loss: 0.2252 - acc: 0.9058 - val_loss: 0.2043 - val_acc: 0.9072\n",
            "Epoch 7/20\n",
            "945/945 [==============================] - 4s 5ms/step - loss: 0.1888 - acc: 0.9196 - val_loss: 0.1667 - val_acc: 0.9283\n",
            "Epoch 8/20\n",
            "945/945 [==============================] - 4s 5ms/step - loss: 0.1632 - acc: 0.9397 - val_loss: 0.1733 - val_acc: 0.9114\n",
            "Epoch 9/20\n",
            "945/945 [==============================] - 4s 5ms/step - loss: 0.1364 - acc: 0.9439 - val_loss: 0.1542 - val_acc: 0.9451\n",
            "Epoch 10/20\n",
            "945/945 [==============================] - 4s 5ms/step - loss: 0.1558 - acc: 0.9418 - val_loss: 0.2586 - val_acc: 0.8903\n",
            "Epoch 11/20\n",
            "945/945 [==============================] - 4s 5ms/step - loss: 0.1935 - acc: 0.9153 - val_loss: 0.1532 - val_acc: 0.9283\n",
            "Epoch 12/20\n",
            "945/945 [==============================] - 4s 5ms/step - loss: 0.1003 - acc: 0.9640 - val_loss: 0.1465 - val_acc: 0.9241\n",
            "Epoch 13/20\n",
            "945/945 [==============================] - 4s 5ms/step - loss: 0.0841 - acc: 0.9683 - val_loss: 0.1271 - val_acc: 0.9451\n",
            "Epoch 14/20\n",
            "945/945 [==============================] - 4s 5ms/step - loss: 0.0540 - acc: 0.9799 - val_loss: 0.1316 - val_acc: 0.9409\n",
            "Epoch 15/20\n",
            "945/945 [==============================] - 4s 5ms/step - loss: 0.0493 - acc: 0.9788 - val_loss: 0.1794 - val_acc: 0.9241\n",
            "Epoch 16/20\n",
            "945/945 [==============================] - 4s 5ms/step - loss: 0.0340 - acc: 0.9884 - val_loss: 0.1747 - val_acc: 0.9451\n",
            "Epoch 17/20\n",
            "945/945 [==============================] - 4s 5ms/step - loss: 0.0261 - acc: 0.9905 - val_loss: 0.2211 - val_acc: 0.9409\n",
            "Epoch 18/20\n",
            "945/945 [==============================] - 4s 5ms/step - loss: 0.0972 - acc: 0.9735 - val_loss: 0.3437 - val_acc: 0.8987\n",
            "Epoch 19/20\n",
            "945/945 [==============================] - 4s 5ms/step - loss: 0.0576 - acc: 0.9778 - val_loss: 0.1789 - val_acc: 0.9114\n",
            "Epoch 20/20\n",
            "945/945 [==============================] - 4s 5ms/step - loss: 0.0189 - acc: 0.9968 - val_loss: 0.2255 - val_acc: 0.9198\n"
          ],
          "name": "stdout"
        },
        {
          "output_type": "execute_result",
          "data": {
            "text/plain": [
              "<keras.callbacks.History at 0x7f3c93dd97b8>"
            ]
          },
          "metadata": {
            "tags": []
          },
          "execution_count": 11
        }
      ]
    },
    {
      "metadata": {
        "colab_type": "text",
        "id": "-1aM2gj5LPIQ"
      },
      "cell_type": "markdown",
      "source": [
        "We call the fit() function to train our network."
      ]
    },
    {
      "metadata": {
        "colab_type": "code",
        "id": "IKieYc2PtOi1",
        "outputId": "cf686c92-0795-4f13-f27f-f8060309d6ac",
        "colab": {
          "base_uri": "https://localhost:8080/",
          "height": 53
        }
      },
      "cell_type": "code",
      "source": [
        "model_json=model.to_json()\n",
        "with open(\"model.json\",\"w\") as json_file:\n",
        "     json_file.write(model_json)\n",
        "model.save_weights(\"model.h5\")\n",
        "print(\"saved model to disk\")\n",
        "json_file = open(\"model.json\", \"r\")\n",
        "loaded_model_json = json_file.read()\n",
        "json_file.close()\n",
        "loaded_model = model_from_json(loaded_model_json)\n",
        "# load weights into new model\n",
        "loaded_model.load_weights(\"model.h5\")\n",
        "print(\"Loaded model from disk\")\n",
        "  \n"
      ],
      "execution_count": 12,
      "outputs": [
        {
          "output_type": "stream",
          "text": [
            "saved model to disk\n",
            "Loaded model from disk\n"
          ],
          "name": "stdout"
        }
      ]
    },
    {
      "metadata": {
        "colab_type": "code",
        "id": "QFg4BFA0Is07",
        "colab": {}
      },
      "cell_type": "code",
      "source": [
        "from helpers import resize_to_fit\n",
        "path='/content/BCDCNN_2/Validation'\n",
        "data1=[]\n",
        "labels1=[]\n",
        "for image_file in paths.list_images(path):\n",
        "    image=cv2.imread(image_file)\n",
        "    image=resize_to_fit(image,128,128)\n",
        "    label=image_file.split(os.path.sep)[-2]\n",
        "    data1.append(image)\n",
        "    labels1.append(label)\n",
        "    \n",
        "    "
      ],
      "execution_count": 0,
      "outputs": []
    },
    {
      "metadata": {
        "colab_type": "text",
        "id": "xKPRVzpCLPIe"
      },
      "cell_type": "markdown",
      "source": [
        "We use a similar process as before but this time we use it on the testdata set."
      ]
    },
    {
      "metadata": {
        "colab_type": "code",
        "id": "q5Xxwe-jIzeT",
        "outputId": "895f960e-bc03-4a59-af2d-fbbeeada2434",
        "colab": {
          "base_uri": "https://localhost:8080/",
          "height": 53
        }
      },
      "cell_type": "code",
      "source": [
        "data1 = np.array(data1, dtype=\"float\") / 255.0\n",
        "labels1 = np.array(np.expand_dims(labels1, axis=1))\n",
        "\n",
        "print(data1.shape)\n",
        "print(labels1.shape)"
      ],
      "execution_count": 14,
      "outputs": [
        {
          "output_type": "stream",
          "text": [
            "(398, 128, 128, 3)\n",
            "(398, 1)\n"
          ],
          "name": "stdout"
        }
      ]
    },
    {
      "metadata": {
        "colab_type": "code",
        "id": "gPOCcCkJJdU5",
        "outputId": "0329847c-ab08-427c-9590-0e7a4bfc75e7",
        "colab": {
          "base_uri": "https://localhost:8080/",
          "height": 35
        }
      },
      "cell_type": "code",
      "source": [
        "lb=LabelBinarizer().fit(labels1)\n",
        "labels1=lb.transform(labels1)\n",
        "print(labels1.shape)"
      ],
      "execution_count": 15,
      "outputs": [
        {
          "output_type": "stream",
          "text": [
            "(398, 1)\n"
          ],
          "name": "stdout"
        }
      ]
    },
    {
      "metadata": {
        "colab_type": "code",
        "id": "F7adl4AjveCg",
        "outputId": "159deadd-0680-4455-892f-96551910f0da",
        "colab": {
          "base_uri": "https://localhost:8080/",
          "height": 70
        }
      },
      "cell_type": "code",
      "source": [
        "scores = model.evaluate(data1,labels1, verbose=1)\n",
        "print('Test loss:', scores[0])\n",
        "print('Test accuracy:', scores[1])"
      ],
      "execution_count": 16,
      "outputs": [
        {
          "output_type": "stream",
          "text": [
            "398/398 [==============================] - 2s 4ms/step\n",
            "Test loss: 0.19865020024285993\n",
            "Test accuracy: 0.9447236171918898\n"
          ],
          "name": "stdout"
        }
      ]
    },
    {
      "metadata": {
        "id": "z45fL0okPUrt",
        "colab_type": "text"
      },
      "cell_type": "markdown",
      "source": [
        "On a set of 398 images, we got a test accuracy of 95.47% which is extremely high and points to the accuracy of our model."
      ]
    },
    {
      "metadata": {
        "colab_type": "code",
        "id": "N3dh0NV_Sf9Q",
        "colab": {}
      },
      "cell_type": "code",
      "source": [
        "y_preds=model.predict(data1)"
      ],
      "execution_count": 0,
      "outputs": []
    },
    {
      "metadata": {
        "colab_type": "code",
        "id": "NWgCCM65k0hG",
        "colab": {}
      },
      "cell_type": "code",
      "source": [
        "y_classes = y_preds.argmax(axis=-1)"
      ],
      "execution_count": 0,
      "outputs": []
    },
    {
      "metadata": {
        "colab_type": "text",
        "id": "aAWbV2B3LPIz"
      },
      "cell_type": "markdown",
      "source": [
        "Converting the label array into a array depicting the class."
      ]
    },
    {
      "metadata": {
        "colab_type": "code",
        "id": "vyYIh0MVuAzq",
        "outputId": "7a40984f-966a-4a85-8b62-a7414508f315",
        "colab": {
          "base_uri": "https://localhost:8080/",
          "height": 213
        }
      },
      "cell_type": "code",
      "source": [
        "print(y_classes)"
      ],
      "execution_count": 19,
      "outputs": [
        {
          "output_type": "stream",
          "text": [
            "[0 0 0 0 0 0 0 0 0 0 0 0 0 0 0 0 0 0 0 0 0 0 0 0 0 0 0 0 0 0 1 0 0 0 0 0 0\n",
            " 0 0 0 0 0 0 0 0 0 0 0 0 0 0 0 0 0 0 0 0 0 0 0 0 0 0 0 0 0 0 0 0 0 0 0 0 0\n",
            " 1 0 0 1 0 0 0 0 0 0 0 0 1 0 0 0 0 0 0 0 0 0 0 0 0 0 0 0 0 0 0 0 0 0 0 0 0\n",
            " 0 0 0 0 0 0 0 0 0 0 0 1 0 0 1 0 0 0 0 0 0 0 0 0 0 0 0 0 0 0 0 0 0 0 0 0 0\n",
            " 0 0 0 0 1 0 0 0 0 0 0 0 0 1 0 0 0 0 0 0 0 0 0 0 0 0 0 0 0 0 0 0 0 0 0 0 0\n",
            " 0 0 0 0 0 0 0 0 0 0 0 0 1 0 1 1 1 1 1 1 1 1 1 1 1 1 1 1 1 1 1 1 1 1 1 1 1\n",
            " 1 1 1 1 1 1 1 1 1 1 1 1 1 1 1 1 1 1 1 1 1 1 1 1 1 0 1 1 1 1 1 1 1 1 1 1 1\n",
            " 1 0 1 1 1 1 1 0 1 1 1 1 1 1 1 1 1 1 1 1 1 1 1 1 0 1 1 1 1 1 1 1 1 1 1 1 1\n",
            " 1 1 1 1 1 1 1 1 1 1 1 0 1 1 1 1 1 1 1 1 1 1 1 1 1 1 1 1 1 1 1 1 1 1 1 0 1\n",
            " 1 1 1 1 1 1 1 1 1 0 1 1 1 1 1 1 0 1 0 1 1 1 1 1 1 1 1 1 1 1 1 1 0 1 1 1 1\n",
            " 1 1 1 1 1 1 1 1 1 0 0 1 1 1 1 1 1 1 1 1 0 1 1 1 1 1 1 1]\n"
          ],
          "name": "stdout"
        }
      ]
    },
    {
      "metadata": {
        "colab_type": "code",
        "id": "bRMFpThwuF_X",
        "colab": {}
      },
      "cell_type": "code",
      "source": [
        "y_classes1=[]\n",
        "for i in range(len(y_classes)):\n",
        "  if y_classes[i]==0:\n",
        "    y_classes1.append(\"benign\")\n",
        "  elif y_classes[i]==1:\n",
        "    y_classes1.append(\"malignant\")"
      ],
      "execution_count": 0,
      "outputs": []
    },
    {
      "metadata": {
        "colab_type": "code",
        "id": "BYd-t9qGzqkp",
        "outputId": "f8686fe9-0000-4433-8b7b-33c717bb0d72",
        "colab": {
          "base_uri": "https://localhost:8080/",
          "height": 634
        }
      },
      "cell_type": "code",
      "source": [
        "import random\n",
        "for i in range(4):\n",
        "  j=random.randint(0,97)\n",
        "  if labels1[j]==0:\n",
        "     a_class=\"benign\"\n",
        "  else:\n",
        "     a_class=\"malignant\"\n",
        "  plt.imshow(data1[j])\n",
        "  print(\"-----actual class-----\")\n",
        "  print(a_class)\n",
        "  print(\"-----predicted label----\")\n",
        "  print(y_classes1[j])\n"
      ],
      "execution_count": 29,
      "outputs": [
        {
          "output_type": "stream",
          "text": [
            "-----actual class-----\n",
            "benign\n",
            "-----predicted label----\n",
            "benign\n",
            "-----actual class-----\n",
            "benign\n",
            "-----predicted label----\n",
            "benign\n",
            "-----actual class-----\n",
            "benign\n",
            "-----predicted label----\n",
            "benign\n",
            "-----actual class-----\n",
            "benign\n",
            "-----predicted label----\n",
            "malignant\n"
          ],
          "name": "stdout"
        },
        {
          "output_type": "display_data",
          "data": {
            "image/png": "[encoded data removed]",
            "text/plain": [
              "<matplotlib.figure.Figure at 0x7f3c78b36b00>"
            ]
          },
          "metadata": {
            "tags": []
          }
        }
      ]
    },
    {
      "metadata": {
        "colab_type": "text",
        "id": "5v1quhEqLPJG"
      },
      "cell_type": "markdown",
      "source": [
        "Outputting random images and their tumor types comparing with the predicted."
      ]
    },
    {
      "metadata": {
        "colab_type": "code",
        "id": "13qH3Snt3srh",
        "outputId": "e1f34d08-3f28-4513-b6d0-2dc5f7bb1266",
        "colab": {
          "base_uri": "https://localhost:8080/",
          "height": 73
        }
      },
      "cell_type": "code",
      "source": [
        "fpr, tpr, thresholds = metrics.roc_curve(labels1, y_classes, pos_label=2)"
      ],
      "execution_count": 22,
      "outputs": [
        {
          "output_type": "stream",
          "text": [
            "/usr/local/lib/python3.6/dist-packages/sklearn/metrics/ranking.py:656: UndefinedMetricWarning: No positive samples in y_true, true positive value should be meaningless\n",
            "  UndefinedMetricWarning)\n"
          ],
          "name": "stderr"
        }
      ]
    },
    {
      "metadata": {
        "colab_type": "text",
        "id": "RQgs0kIhLPJV"
      },
      "cell_type": "markdown",
      "source": [
        "Drawing the ROC curve. fpr-False Positives Rate, tpr-True Positive Rate"
      ]
    },
    {
      "metadata": {
        "colab_type": "code",
        "id": "W8GnFP7VLYiC",
        "outputId": "ba3730a8-f408-4499-f055-039f6c9fbf4a",
        "colab": {
          "base_uri": "https://localhost:8080/",
          "height": 376
        }
      },
      "cell_type": "code",
      "source": [
        "roc_auc = auc(fpr, tpr)\n",
        "plt.title('Receiver Operating Characteristic')\n",
        "plt.plot(fpr, tpr, 'b',label='AUC = %0.2f'% roc_auc)\n",
        "plt.legend(loc='lower right')\n",
        "plt.plot([0,1],[0,1],'r--')\n",
        "plt.xlim([-0.1,1.2])\n",
        "plt.ylim([-0.1,1.2])\n",
        "plt.ylabel('True Positive Rate')\n",
        "plt.xlabel('False Positive Rate')\n",
        "plt.show()"
      ],
      "execution_count": 23,
      "outputs": [
        {
          "output_type": "display_data",
          "data": {
            "image/png": "[encoded data removed]",
            "text/plain": [
              "<matplotlib.figure.Figure at 0x7f3c7c7c5470>"
            ]
          },
          "metadata": {
            "tags": []
          }
        }
      ]
    },
    {
      "metadata": {
        "colab_type": "code",
        "id": "fG8qyfbYNIBE",
        "outputId": "50142d94-a9e5-4c84-e9d1-c0f7715007f6",
        "colab": {
          "base_uri": "https://localhost:8080/",
          "height": 177
        }
      },
      "cell_type": "code",
      "source": [
        "print(classification_report(labels1,y_classes))"
      ],
      "execution_count": 30,
      "outputs": [
        {
          "output_type": "stream",
          "text": [
            "              precision    recall  f1-score   support\n",
            "\n",
            "           0       0.94      0.95      0.95       199\n",
            "           1       0.95      0.93      0.94       199\n",
            "\n",
            "   micro avg       0.94      0.94      0.94       398\n",
            "   macro avg       0.94      0.94      0.94       398\n",
            "weighted avg       0.94      0.94      0.94       398\n",
            "\n"
          ],
          "name": "stdout"
        }
      ]
    },
    {
      "metadata": {
        "id": "F81nfXXXVK1x",
        "colab_type": "code",
        "colab": {}
      },
      "cell_type": "code",
      "source": [
        ""
      ],
      "execution_count": 0,
      "outputs": []
    }
  ]
}