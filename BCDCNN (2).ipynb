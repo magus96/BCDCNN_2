{
 "cells": [
  {
   "cell_type": "code",
   "execution_count": 1,
   "metadata": {
    "colab": {
     "base_uri": "https://localhost:8080/",
     "height": 35
    },
    "colab_type": "code",
    "id": "SH-gbSDqjCfN",
    "outputId": "91183dd0-6fdc-4269-af10-0334cb06126d"
   },
   "outputs": [
    {
     "name": "stderr",
     "output_type": "stream",
     "text": [
      "Using TensorFlow backend.\n"
     ]
    }
   ],
   "source": [
    "import cv2\n",
    "import pickle\n",
    "import os.path\n",
    "import matplotlib.pyplot as plt\n",
    "from imutils import paths\n",
    "from sklearn.preprocessing import LabelBinarizer\n",
    "import numpy as np\n",
    "from sklearn.model_selection import train_test_split\n",
    "from keras.models import Sequential\n",
    "from keras.layers import Conv2D,Flatten,MaxPooling2D,Dense,Dropout\n",
    "from keras import backend as k\n",
    "from keras.layers.normalization import BatchNormalization\n",
    "from keras.models import model_from_json\n",
    "from sklearn import metrics\n",
    "from sklearn.metrics import roc_curve,auc\n",
    "from sklearn.metrics import classification_report"
   ]
  },
  {
   "cell_type": "code",
   "execution_count": 2,
   "metadata": {
    "colab": {
     "base_uri": "https://localhost:8080/",
     "height": 124
    },
    "colab_type": "code",
    "id": "N6JHQ7Oi3wl6",
    "outputId": "f23bdbe2-6781-4164-fbbb-2bb4948bde9e"
   },
   "outputs": [
    {
     "name": "stdout",
     "output_type": "stream",
     "text": [
      "Cloning into 'BCDCNN_2'...\n",
      "remote: Enumerating objects: 1514, done.\u001b[K\n",
      "remote: Counting objects: 100% (1514/1514), done.\u001b[K\n",
      "remote: Compressing objects: 100% (1514/1514), done.\u001b[K\n",
      "remote: Total 1514 (delta 0), reused 1510 (delta 0), pack-reused 0\u001b[K\n",
      "Receiving objects: 100% (1514/1514), 173.46 MiB | 40.55 MiB/s, done.\n"
     ]
    }
   ],
   "source": [
    "!git clone https://github.com/magus96/BCDCNN_2.git\n",
    "  "
   ]
  },
  {
   "cell_type": "code",
   "execution_count": 3,
   "metadata": {
    "colab": {
     "base_uri": "https://localhost:8080/",
     "height": 35
    },
    "colab_type": "code",
    "id": "gwXMggsJjWS3",
    "outputId": "e37a1457-616f-4b8f-97d4-fc5406f2f6d6"
   },
   "outputs": [
    {
     "name": "stdout",
     "output_type": "stream",
     "text": [
      "/content/BCDCNN_2\n"
     ]
    }
   ],
   "source": [
    "cd '/content/BCDCNN_2/'\n"
   ]
  },
  {
   "cell_type": "code",
   "execution_count": 0,
   "metadata": {
    "colab": {},
    "colab_type": "code",
    "id": "JLWWzE2wjpJa"
   },
   "outputs": [],
   "source": [
    "from helpers import resize_to_fit\n",
    "path='/content/BCDCNN_2/Data'\n",
    "data=[]\n",
    "labels=[]\n",
    "for image_file in paths.list_images(path):\n",
    "    image=cv2.imread(image_file)\n",
    "    image=resize_to_fit(image,128,128)\n",
    "    label=image_file.split(os.path.sep)[-2]\n",
    "    data.append(image)\n",
    "    labels.append(label)\n",
    "    \n",
    "    "
   ]
  },
  {
   "cell_type": "markdown",
   "metadata": {
    "colab_type": "text",
    "id": "Vw1NCI1bLPHq"
   },
   "source": [
    "We initialize data and label as empty vectors. We iterate through the folder(s) containing our test images. The names of the subfolders are the labels themselves(0-Benign 1-Malignant). We use openCV for our image manipulation. From exhaustive testing, we found that 128 * 128 pixels was the best image size for our purpose. We append the images to the data vector with corresponding labels stored in the labels vector."
   ]
  },
  {
   "cell_type": "code",
   "execution_count": 5,
   "metadata": {
    "colab": {
     "base_uri": "https://localhost:8080/",
     "height": 53
    },
    "colab_type": "code",
    "id": "AAHuxadJjrf3",
    "outputId": "b987ea8d-b307-4faa-ea86-f62b0e27163a"
   },
   "outputs": [
    {
     "name": "stdout",
     "output_type": "stream",
     "text": [
      "(1182, 128, 128, 3)\n",
      "(1182, 1)\n"
     ]
    }
   ],
   "source": [
    "data = np.array(data, dtype=\"float\") / 255.0\n",
    "labels = np.array(np.expand_dims(labels, axis=1))\n",
    "\n",
    "print(data.shape)\n",
    "print(labels.shape)"
   ]
  },
  {
   "cell_type": "markdown",
   "metadata": {
    "colab_type": "text",
    "id": "gAOWAPl3LPHw"
   },
   "source": [
    "We convert our vectors into numpy arrays as they are easy to manipulate and are a lot faster to operate on. Since we have 1482 images of 128 * 128 pixels and 3 channels(RGB channel), we get an array of shape(1482,128,128,3). We also normalize the pixel by dividing them by 255. We convert the labels vector to a similar numpy array with 1 column and 1482 labels."
   ]
  },
  {
   "cell_type": "code",
   "execution_count": 6,
   "metadata": {
    "colab": {
     "base_uri": "https://localhost:8080/",
     "height": 35
    },
    "colab_type": "code",
    "id": "eG08FQYBlJve",
    "outputId": "4e207295-ee12-4453-94a0-015ec8e29f4c"
   },
   "outputs": [
    {
     "name": "stdout",
     "output_type": "stream",
     "text": [
      "(1182, 1)\n"
     ]
    }
   ],
   "source": [
    "lb=LabelBinarizer().fit(labels)\n",
    "labels=lb.transform(labels)\n",
    "print(labels.shape)"
   ]
  },
  {
   "cell_type": "markdown",
   "metadata": {
    "colab_type": "text",
    "id": "eCx1WKN4LPH2"
   },
   "source": [
    "We one hot encode the labels although it isnt entirely necessary to do this for binary classification."
   ]
  },
  {
   "cell_type": "code",
   "execution_count": 0,
   "metadata": {
    "colab": {},
    "colab_type": "code",
    "id": "4T_3A0qSlopy"
   },
   "outputs": [],
   "source": [
    "X_train,X_test,y_train,y_test=train_test_split(data,labels,test_size=0.2,random_state=109)"
   ]
  },
  {
   "cell_type": "markdown",
   "metadata": {
    "colab_type": "text",
    "id": "D6KFReS3LPH7"
   },
   "source": [
    "We split the dataset into train and testing data. The test size is 20% of the total dataset."
   ]
  },
  {
   "cell_type": "code",
   "execution_count": 8,
   "metadata": {
    "colab": {
     "base_uri": "https://localhost:8080/",
     "height": 53
    },
    "colab_type": "code",
    "id": "xdKzIwUMlsaK",
    "outputId": "2328ac7b-89d5-4738-b578-68563fcc6f9f"
   },
   "outputs": [
    {
     "name": "stdout",
     "output_type": "stream",
     "text": [
      "(945, 128, 128, 3)\n",
      "(237, 128, 128, 3)\n"
     ]
    }
   ],
   "source": [
    "print(X_train.shape)\n",
    "print(X_test.shape)"
   ]
  },
  {
   "cell_type": "code",
   "execution_count": 9,
   "metadata": {
    "colab": {
     "base_uri": "https://localhost:8080/",
     "height": 621
    },
    "colab_type": "code",
    "id": "Hdqf8Y3SlvBQ",
    "outputId": "b2a1f577-5b2c-45da-f170-fa02d3e94cef"
   },
   "outputs": [
    {
     "name": "stdout",
     "output_type": "stream",
     "text": [
      "_________________________________________________________________\n",
      "Layer (type)                 Output Shape              Param #   \n",
      "=================================================================\n",
      "conv2d_1 (Conv2D)            (None, 128, 128, 64)      1792      \n",
      "_________________________________________________________________\n",
      "conv2d_2 (Conv2D)            (None, 128, 128, 64)      36928     \n",
      "_________________________________________________________________\n",
      "max_pooling2d_1 (MaxPooling2 (None, 64, 64, 64)        0         \n",
      "_________________________________________________________________\n",
      "conv2d_3 (Conv2D)            (None, 64, 64, 128)       73856     \n",
      "_________________________________________________________________\n",
      "max_pooling2d_2 (MaxPooling2 (None, 32, 32, 128)       0         \n",
      "_________________________________________________________________\n",
      "conv2d_4 (Conv2D)            (None, 32, 32, 256)       295168    \n",
      "_________________________________________________________________\n",
      "max_pooling2d_3 (MaxPooling2 (None, 16, 16, 256)       0         \n",
      "_________________________________________________________________\n",
      "max_pooling2d_4 (MaxPooling2 (None, 8, 8, 256)         0         \n",
      "_________________________________________________________________\n",
      "conv2d_5 (Conv2D)            (None, 8, 8, 512)         1180160   \n",
      "_________________________________________________________________\n",
      "max_pooling2d_5 (MaxPooling2 (None, 4, 4, 512)         0         \n",
      "_________________________________________________________________\n",
      "flatten_1 (Flatten)          (None, 8192)              0         \n",
      "_________________________________________________________________\n",
      "dense_1 (Dense)              (None, 256)               2097408   \n",
      "_________________________________________________________________\n",
      "dense_2 (Dense)              (None, 2)                 514       \n",
      "=================================================================\n",
      "Total params: 3,685,826\n",
      "Trainable params: 3,685,826\n",
      "Non-trainable params: 0\n",
      "_________________________________________________________________\n",
      "None\n"
     ]
    }
   ],
   "source": [
    "model = Sequential()\n",
    "model.add(Conv2D(64, (3, 3), activation='relu', padding='same', input_shape=(128,128,3)))\n",
    "model.add(Conv2D(64, (3, 3), activation='relu', padding='same'))\n",
    "model.add(MaxPooling2D((2, 2), strides=(2, 2)))\n",
    "\n",
    "    # Block 2\n",
    "model.add(Conv2D(128, (3, 3), activation='relu', padding='same'))\n",
    "\n",
    "model.add(MaxPooling2D((2, 2), strides=(2, 2)))\n",
    "\n",
    "    # Block 3\n",
    "model.add(Conv2D(256, (3, 3), activation='relu', padding='same'))\n",
    "\n",
    "model.add(MaxPooling2D((2, 2), strides=(2, 2)))\n",
    "\n",
    "    # Block 4\n",
    "\n",
    "model.add(MaxPooling2D((2, 2), strides=(2, 2)))\n",
    "\n",
    "    # Block 5\n",
    "model.add(Conv2D(512, (3, 3), activation='relu', padding='same'))\n",
    "\n",
    "model.add(MaxPooling2D((2, 2), strides=(2, 2)))\n",
    "  \n",
    "model.add(Flatten())\n",
    "model.add(Dense(256, activation='tanh'))\n",
    "model.add(Dense(2, activation='softmax'))\n",
    "model.compile(loss='sparse_categorical_crossentropy',\n",
    "              optimizer='Adam',\n",
    "              metrics=['accuracy'])\n",
    "print(model.summary())\n",
    "  "
   ]
  },
  {
   "cell_type": "markdown",
   "metadata": {
    "colab_type": "text",
    "id": "8F6lrSzkLPIG"
   },
   "source": [
    "We initialize our Convolutional Neural Network. An input size of (128,128,3) is required according to the image size. Precision being the need of the hour, we use 5 convolutional layers for maximum feature extraction. The final layer is a fully connected layer with 2 outputs and a sigmoid activation function. This outputs the probabilities for each class for a given image."
   ]
  },
  {
   "cell_type": "code",
   "execution_count": 0,
   "metadata": {
    "colab": {},
    "colab_type": "code",
    "id": "EaPEnO5ys_G6"
   },
   "outputs": [],
   "source": [
    "batch_size=64\n",
    "epochss=20\n"
   ]
  },
  {
   "cell_type": "markdown",
   "metadata": {
    "colab_type": "text",
    "id": "Do50DsUyLPIK"
   },
   "source": [
    "We choose a batch size of 64 due to memory considerations. We train our network for 20 epochs."
   ]
  },
  {
   "cell_type": "code",
   "execution_count": 11,
   "metadata": {
    "colab": {
     "base_uri": "https://localhost:8080/",
     "height": 764
    },
    "colab_type": "code",
    "id": "OQkjshZztJlq",
    "outputId": "6cc75c7d-c2df-442f-cdf2-6447aa6266a0"
   },
   "outputs": [
    {
     "name": "stdout",
     "output_type": "stream",
     "text": [
      "Train on 945 samples, validate on 237 samples\n",
      "Epoch 1/20\n",
      "945/945 [==============================] - 14s 15ms/step - loss: 0.8244 - acc: 0.5524 - val_loss: 0.7326 - val_acc: 0.4810\n",
      "Epoch 2/20\n",
      "945/945 [==============================] - 4s 5ms/step - loss: 0.5489 - acc: 0.7471 - val_loss: 0.3810 - val_acc: 0.8608\n",
      "Epoch 3/20\n",
      "945/945 [==============================] - 4s 5ms/step - loss: 0.3911 - acc: 0.8540 - val_loss: 0.3512 - val_acc: 0.8397\n",
      "Epoch 4/20\n",
      "945/945 [==============================] - 5s 5ms/step - loss: 0.3204 - acc: 0.8550 - val_loss: 0.2737 - val_acc: 0.8819\n",
      "Epoch 5/20\n",
      "945/945 [==============================] - 4s 5ms/step - loss: 0.2380 - acc: 0.9037 - val_loss: 0.2222 - val_acc: 0.8903\n",
      "Epoch 6/20\n",
      "945/945 [==============================] - 4s 5ms/step - loss: 0.2008 - acc: 0.9217 - val_loss: 0.1997 - val_acc: 0.9114\n",
      "Epoch 7/20\n",
      "945/945 [==============================] - 4s 5ms/step - loss: 0.2034 - acc: 0.9090 - val_loss: 0.1669 - val_acc: 0.9156\n",
      "Epoch 8/20\n",
      "945/945 [==============================] - 4s 5ms/step - loss: 0.1604 - acc: 0.9397 - val_loss: 0.1516 - val_acc: 0.9156\n",
      "Epoch 9/20\n",
      "945/945 [==============================] - 4s 5ms/step - loss: 0.1586 - acc: 0.9386 - val_loss: 0.1661 - val_acc: 0.9156\n",
      "Epoch 10/20\n",
      "945/945 [==============================] - 4s 5ms/step - loss: 0.1479 - acc: 0.9429 - val_loss: 0.1773 - val_acc: 0.9283\n",
      "Epoch 11/20\n",
      "945/945 [==============================] - 4s 5ms/step - loss: 0.1343 - acc: 0.9450 - val_loss: 0.1487 - val_acc: 0.9325\n",
      "Epoch 12/20\n",
      "945/945 [==============================] - 4s 5ms/step - loss: 0.0832 - acc: 0.9661 - val_loss: 0.2233 - val_acc: 0.9241\n",
      "Epoch 13/20\n",
      "945/945 [==============================] - 4s 5ms/step - loss: 0.0806 - acc: 0.9704 - val_loss: 0.1865 - val_acc: 0.9241\n",
      "Epoch 14/20\n",
      "945/945 [==============================] - 5s 5ms/step - loss: 0.0980 - acc: 0.9661 - val_loss: 0.1426 - val_acc: 0.9325\n",
      "Epoch 15/20\n",
      "945/945 [==============================] - 4s 5ms/step - loss: 0.0690 - acc: 0.9704 - val_loss: 0.2282 - val_acc: 0.9409\n",
      "Epoch 16/20\n",
      "945/945 [==============================] - 4s 5ms/step - loss: 0.0720 - acc: 0.9746 - val_loss: 0.1606 - val_acc: 0.9283\n",
      "Epoch 17/20\n",
      "945/945 [==============================] - 5s 5ms/step - loss: 0.0239 - acc: 0.9958 - val_loss: 0.1890 - val_acc: 0.9198\n",
      "Epoch 18/20\n",
      "945/945 [==============================] - 4s 5ms/step - loss: 0.0123 - acc: 0.9968 - val_loss: 0.1098 - val_acc: 0.9578\n",
      "Epoch 19/20\n",
      "945/945 [==============================] - 5s 5ms/step - loss: 0.0340 - acc: 0.9905 - val_loss: 0.2065 - val_acc: 0.9241\n",
      "Epoch 20/20\n",
      "945/945 [==============================] - 4s 5ms/step - loss: 0.0592 - acc: 0.9767 - val_loss: 0.1125 - val_acc: 0.9494\n"
     ]
    },
    {
     "data": {
      "text/plain": [
       "<keras.callbacks.History at 0x7faa1bb2a6a0>"
      ]
     },
     "execution_count": 11,
     "metadata": {
      "tags": []
     },
     "output_type": "execute_result"
    }
   ],
   "source": [
    "model.fit(X_train,y_train,validation_data=(X_test,y_test),batch_size=batch_size,epochs=epochss)\n"
   ]
  },
  {
   "cell_type": "markdown",
   "metadata": {
    "colab_type": "text",
    "id": "-1aM2gj5LPIQ"
   },
   "source": [
    "We call the fit() function to train our network."
   ]
  },
  {
   "cell_type": "code",
   "execution_count": 12,
   "metadata": {
    "colab": {
     "base_uri": "https://localhost:8080/",
     "height": 53
    },
    "colab_type": "code",
    "id": "IKieYc2PtOi1",
    "outputId": "f2398cc1-b25a-49b9-f422-df0899fb5d13"
   },
   "outputs": [
    {
     "name": "stdout",
     "output_type": "stream",
     "text": [
      "saved model to disk\n",
      "Loaded model from disk\n"
     ]
    }
   ],
   "source": [
    "model_json=model.to_json()\n",
    "with open(\"model.json\",\"w\") as json_file:\n",
    "     json_file.write(model_json)\n",
    "model.save_weights(\"model.h5\")\n",
    "print(\"saved model to disk\")\n",
    "json_file = open(\"model.json\", \"r\")\n",
    "loaded_model_json = json_file.read()\n",
    "json_file.close()\n",
    "loaded_model = model_from_json(loaded_model_json)\n",
    "# load weights into new model\n",
    "loaded_model.load_weights(\"model.h5\")\n",
    "print(\"Loaded model from disk\")\n",
    "  \n"
   ]
  },
  {
   "cell_type": "code",
   "execution_count": 0,
   "metadata": {
    "colab": {},
    "colab_type": "code",
    "id": "QFg4BFA0Is07"
   },
   "outputs": [],
   "source": [
    "from helpers import resize_to_fit\n",
    "path='/content/BCDCNN_2/Validation'\n",
    "data1=[]\n",
    "labels1=[]\n",
    "for image_file in paths.list_images(path):\n",
    "    image=cv2.imread(image_file)\n",
    "    image=resize_to_fit(image,128,128)\n",
    "    label=image_file.split(os.path.sep)[-2]\n",
    "    data1.append(image)\n",
    "    labels1.append(label)\n",
    "    \n",
    "    "
   ]
  },
  {
   "cell_type": "markdown",
   "metadata": {
    "colab_type": "text",
    "id": "xKPRVzpCLPIe"
   },
   "source": [
    "We use a similar process as before but this time we use it on the testdata set."
   ]
  },
  {
   "cell_type": "code",
   "execution_count": 14,
   "metadata": {
    "colab": {
     "base_uri": "https://localhost:8080/",
     "height": 53
    },
    "colab_type": "code",
    "id": "q5Xxwe-jIzeT",
    "outputId": "9240aa6e-92b5-44e5-a686-db27cd9bad89"
   },
   "outputs": [
    {
     "name": "stdout",
     "output_type": "stream",
     "text": [
      "(398, 128, 128, 3)\n",
      "(398, 1)\n"
     ]
    }
   ],
   "source": [
    "data1 = np.array(data1, dtype=\"float\") / 255.0\n",
    "labels1 = np.array(np.expand_dims(labels1, axis=1))\n",
    "\n",
    "print(data1.shape)\n",
    "print(labels1.shape)"
   ]
  },
  {
   "cell_type": "code",
   "execution_count": 15,
   "metadata": {
    "colab": {
     "base_uri": "https://localhost:8080/",
     "height": 35
    },
    "colab_type": "code",
    "id": "gPOCcCkJJdU5",
    "outputId": "b53c5336-e0bc-4fb2-fcae-603f2d3dbde8"
   },
   "outputs": [
    {
     "name": "stdout",
     "output_type": "stream",
     "text": [
      "(398, 1)\n"
     ]
    }
   ],
   "source": [
    "lb=LabelBinarizer().fit(labels1)\n",
    "labels1=lb.transform(labels1)\n",
    "print(labels1.shape)"
   ]
  },
  {
   "cell_type": "code",
   "execution_count": 16,
   "metadata": {
    "colab": {
     "base_uri": "https://localhost:8080/",
     "height": 70
    },
    "colab_type": "code",
    "id": "F7adl4AjveCg",
    "outputId": "f67c42b1-360a-4bb0-cdf7-8943a0016fce"
   },
   "outputs": [
    {
     "name": "stdout",
     "output_type": "stream",
     "text": [
      "398/398 [==============================] - 2s 4ms/step\n",
      "Test loss: 0.14333318158909303\n",
      "Test accuracy: 0.9547738684481711\n"
     ]
    }
   ],
   "source": [
    "scores = model.evaluate(data1,labels1, verbose=1)\n",
    "print('Test loss:', scores[0])\n",
    "print('Test accuracy:', scores[1])"
   ]
  },
  {
   "cell_type": "markdown",
   "metadata": {},
   "source": [
    "On a set of 398 images, we got a test accuracy of 95.47% which is extremely high and points to the accuracy of our model."
   ]
  },
  {
   "cell_type": "code",
   "execution_count": 0,
   "metadata": {
    "colab": {},
    "colab_type": "code",
    "id": "N3dh0NV_Sf9Q"
   },
   "outputs": [],
   "source": [
    "y_preds=model.predict(data1)"
   ]
  },
  {
   "cell_type": "code",
   "execution_count": 0,
   "metadata": {
    "colab": {},
    "colab_type": "code",
    "id": "NWgCCM65k0hG"
   },
   "outputs": [],
   "source": [
    "y_classes = y_preds.argmax(axis=-1)"
   ]
  },
  {
   "cell_type": "markdown",
   "metadata": {
    "colab_type": "text",
    "id": "aAWbV2B3LPIz"
   },
   "source": [
    "Converting the label array into a array depicting the class."
   ]
  },
  {
   "cell_type": "code",
   "execution_count": 19,
   "metadata": {
    "colab": {
     "base_uri": "https://localhost:8080/",
     "height": 213
    },
    "colab_type": "code",
    "id": "vyYIh0MVuAzq",
    "outputId": "70a7b163-a1a5-4e2b-b96c-a17a9bf81ddd"
   },
   "outputs": [
    {
     "name": "stdout",
     "output_type": "stream",
     "text": [
      "[0 0 0 0 0 0 0 0 0 0 0 0 0 0 0 0 0 0 0 0 0 0 0 0 0 0 0 0 0 0 1 0 0 0 0 0 0\n",
      " 0 0 0 0 0 0 0 0 0 0 0 0 0 0 0 0 0 0 0 0 0 0 0 0 0 0 0 0 0 0 0 0 0 0 0 0 0\n",
      " 0 0 0 1 0 0 0 0 0 0 0 0 0 0 0 0 0 0 0 0 0 0 0 0 0 0 0 0 0 0 0 0 0 0 0 0 0\n",
      " 1 0 0 0 0 0 0 0 0 0 0 1 0 0 0 0 0 0 0 0 0 0 0 0 0 0 0 0 0 0 0 0 0 0 0 0 0\n",
      " 0 0 0 0 1 0 0 0 0 0 0 0 0 0 0 0 0 0 0 0 0 0 0 0 0 0 0 0 0 0 0 0 0 0 0 0 0\n",
      " 0 0 0 0 0 0 0 1 0 0 0 0 1 0 1 1 1 1 1 1 1 1 1 1 1 1 1 1 1 1 1 1 1 1 1 1 1\n",
      " 1 1 1 1 1 1 1 1 1 1 1 1 1 1 1 1 1 1 1 1 1 1 1 1 1 0 1 1 1 1 1 1 1 1 1 1 1\n",
      " 1 0 1 1 1 1 1 0 1 1 1 1 1 1 1 1 1 1 1 1 1 1 1 1 0 1 1 1 1 1 1 1 1 1 1 1 1\n",
      " 1 1 1 1 1 1 1 1 1 1 1 1 1 1 0 1 1 1 1 1 1 1 1 1 1 1 1 1 1 1 1 1 1 1 1 0 1\n",
      " 1 1 1 1 1 1 1 1 1 1 1 1 1 1 1 1 1 1 0 1 1 1 1 1 1 1 1 1 1 1 1 1 0 1 1 1 1\n",
      " 1 1 1 1 1 1 1 1 1 0 0 1 1 1 1 1 1 1 1 1 0 1 1 1 1 1 1 1]\n"
     ]
    }
   ],
   "source": [
    "print(y_classes)"
   ]
  },
  {
   "cell_type": "code",
   "execution_count": 20,
   "metadata": {
    "colab": {
     "base_uri": "https://localhost:8080/",
     "height": 35
    },
    "colab_type": "code",
    "id": "bRMFpThwuF_X",
    "outputId": "5972c8c3-319e-4137-ba25-199a77ccebea"
   },
   "outputs": [
    {
     "name": "stdout",
     "output_type": "stream",
     "text": [
      "benign\n"
     ]
    }
   ],
   "source": [
    "y_classes1=[98]\n",
    "for i in range(len(y_classes)):\n",
    "  if y_classes[i]==0:\n",
    "    y_classes1.append(\"benign\")\n",
    "  elif y_classes[i]==1:\n",
    "    y_classes1.append(\"malignant\")\n",
    "print(y_classes1[50]) "
   ]
  },
  {
   "cell_type": "code",
   "execution_count": 21,
   "metadata": {
    "colab": {
     "base_uri": "https://localhost:8080/",
     "height": 634
    },
    "colab_type": "code",
    "id": "BYd-t9qGzqkp",
    "outputId": "5f7ed218-47a3-4ab2-d777-4ad64ba04fd3"
   },
   "outputs": [
    {
     "name": "stdout",
     "output_type": "stream",
     "text": [
      "-----actual class-----\n",
      "benign\n",
      "-----predicted label----\n",
      "benign\n",
      "-----actual class-----\n",
      "benign\n",
      "-----predicted label----\n",
      "benign\n",
      "-----actual class-----\n",
      "benign\n",
      "-----predicted label----\n",
      "malignant\n",
      "-----actual class-----\n",
      "benign\n",
      "-----predicted label----\n",
      "benign\n"
     ]
    },
    {
     "data": {
      "image/png": "[encoded data removed]",
      "text/plain": [
       "<matplotlib.figure.Figure at 0x7fa9d004c358>"
      ]
     },
     "metadata": {
      "tags": []
     },
     "output_type": "display_data"
    }
   ],
   "source": [
    "import random\n",
    "for i in range(4):\n",
    "  j=random.randint(0,97)\n",
    "  if labels1[j]==0:\n",
    "     a_class=\"benign\"\n",
    "  else:\n",
    "     a_class=\"malignant\"\n",
    "  plt.imshow(data1[j])\n",
    "  print(\"-----actual class-----\")\n",
    "  print(a_class)\n",
    "  print(\"-----predicted label----\")\n",
    "  print(y_classes1[j])\n"
   ]
  },
  {
   "cell_type": "markdown",
   "metadata": {
    "colab_type": "text",
    "id": "5v1quhEqLPJG"
   },
   "source": [
    "Outputting random images and their tumor types comparing with the predicted."
   ]
  },
  {
   "cell_type": "code",
   "execution_count": 0,
   "metadata": {
    "colab": {},
    "colab_type": "code",
    "id": "Lw7yUbqq3VKv"
   },
   "outputs": [],
   "source": []
  },
  {
   "cell_type": "markdown",
   "metadata": {
    "colab_type": "text",
    "id": "sYnfgmDlLPJP"
   },
   "source": [
    "Outlier image analysis(if any)."
   ]
  },
  {
   "cell_type": "code",
   "execution_count": 22,
   "metadata": {
    "colab": {
     "base_uri": "https://localhost:8080/",
     "height": 73
    },
    "colab_type": "code",
    "id": "13qH3Snt3srh",
    "outputId": "9273a90f-2ab1-407a-a371-c89f45f89661"
   },
   "outputs": [
    {
     "name": "stderr",
     "output_type": "stream",
     "text": [
      "/usr/local/lib/python3.6/dist-packages/sklearn/metrics/ranking.py:656: UndefinedMetricWarning: No positive samples in y_true, true positive value should be meaningless\n",
      "  UndefinedMetricWarning)\n"
     ]
    }
   ],
   "source": [
    "fpr, tpr, thresholds = metrics.roc_curve(labels1, y_classes, pos_label=2)"
   ]
  },
  {
   "cell_type": "markdown",
   "metadata": {
    "colab_type": "text",
    "id": "RQgs0kIhLPJV"
   },
   "source": [
    "Drawing the ROC curve. fpr-False Positives Rate, tpr-True Positive Rate"
   ]
  },
  {
   "cell_type": "code",
   "execution_count": 23,
   "metadata": {
    "colab": {
     "base_uri": "https://localhost:8080/",
     "height": 376
    },
    "colab_type": "code",
    "id": "W8GnFP7VLYiC",
    "outputId": "e4e1ff9b-f954-4076-94eb-20ca4b76822a"
   },
   "outputs": [
    {
     "data": {
      "image/png": "[encoded data removed]",
      "text/plain": [
       "<matplotlib.figure.Figure at 0x7faa1bb2aeb8>"
      ]
     },
     "metadata": {
      "tags": []
     },
     "output_type": "display_data"
    }
   ],
   "source": [
    "roc_auc = auc(fpr, tpr)\n",
    "plt.title('Receiver Operating Characteristic')\n",
    "plt.plot(fpr, tpr, 'b',label='AUC = %0.2f'% roc_auc)\n",
    "plt.legend(loc='lower right')\n",
    "plt.plot([0,1],[0,1],'r--')\n",
    "plt.xlim([-0.1,1.2])\n",
    "plt.ylim([-0.1,1.2])\n",
    "plt.ylabel('True Positive Rate')\n",
    "plt.xlabel('False Positive Rate')\n",
    "plt.show()"
   ]
  },
  {
   "cell_type": "code",
   "execution_count": 24,
   "metadata": {
    "colab": {
     "base_uri": "https://localhost:8080/",
     "height": 133
    },
    "colab_type": "code",
    "id": "fG8qyfbYNIBE",
    "outputId": "f4a66d95-c5ad-4720-eb80-077f95d17fb9"
   },
   "outputs": [
    {
     "ename": "SyntaxError",
     "evalue": "ignored",
     "output_type": "error",
     "traceback": [
      "\u001b[0;36m  File \u001b[0;32m\"<ipython-input-24-cc20e6842dc5>\"\u001b[0;36m, line \u001b[0;32m1\u001b[0m\n\u001b[0;31m    The ROC curve is linear for our dataset.\u001b[0m\n\u001b[0m          ^\u001b[0m\n\u001b[0;31mSyntaxError\u001b[0m\u001b[0;31m:\u001b[0m invalid syntax\n"
     ]
    }
   ],
   "source": [
    "print(classification_report(lables1,y_classes))"
   ]
  }
 ],
 "metadata": {
  "accelerator": "GPU",
  "colab": {
   "collapsed_sections": [],
   "name": "BCDCNN.ipynb",
   "provenance": [],
   "version": "0.3.2"
  },
  "kernelspec": {
   "display_name": "Python 3",
   "language": "python",
   "name": "python3"
  },
  "language_info": {
   "codemirror_mode": {
    "name": "ipython",
    "version": 3
   },
   "file_extension": ".py",
   "mimetype": "text/x-python",
   "name": "python",
   "nbconvert_exporter": "python",
   "pygments_lexer": "ipython3",
   "version": "3.7.1"
  }
 },
 "nbformat": 4,
 "nbformat_minor": 1
}
